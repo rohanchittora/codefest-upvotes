{
 "cells": [
  {
   "cell_type": "code",
   "execution_count": 36,
   "metadata": {},
   "outputs": [],
   "source": [
    "import sys\n",
    "import pandas as pd\n",
    "import matplotlib\n",
    "import seaborn\n",
    "import sklearn\n",
    "import matplotlib.pyplot as plt\n",
    "import seaborn as sns\n",
    "from sklearn import preprocessing"
   ]
  },
  {
   "cell_type": "code",
   "execution_count": 388,
   "metadata": {},
   "outputs": [],
   "source": [
    "train=pd.read_csv('train.csv')\n",
    "test=pd.read_csv('test.csv')"
   ]
  },
  {
   "cell_type": "code",
   "execution_count": 335,
   "metadata": {},
   "outputs": [
    {
     "name": "stdout",
     "output_type": "stream",
     "text": [
      "Index(['ID', 'Tag', 'Reputation', 'Answers', 'Username', 'Views'], dtype='object')\n"
     ]
    }
   ],
   "source": [
    "print(test.columns)"
   ]
  },
  {
   "cell_type": "code",
   "execution_count": 336,
   "metadata": {},
   "outputs": [
    {
     "name": "stdout",
     "output_type": "stream",
     "text": [
      "Index(['ID', 'Tag', 'Reputation', 'Answers', 'Username', 'Views', 'Upvotes'], dtype='object')\n"
     ]
    }
   ],
   "source": [
    "print(train.columns)"
   ]
  },
  {
   "cell_type": "code",
   "execution_count": 337,
   "metadata": {},
   "outputs": [
    {
     "data": {
      "text/plain": [
       "count    330045.000000\n",
       "mean     235748.682789\n",
       "std      136039.418471\n",
       "min           1.000000\n",
       "25%      117909.000000\n",
       "50%      235699.000000\n",
       "75%      353620.000000\n",
       "max      471493.000000\n",
       "Name: ID, dtype: float64"
      ]
     },
     "execution_count": 337,
     "metadata": {},
     "output_type": "execute_result"
    }
   ],
   "source": [
    "train['ID'].describe()"
   ]
  },
  {
   "cell_type": "code",
   "execution_count": 338,
   "metadata": {},
   "outputs": [
    {
     "data": {
      "text/plain": [
       "array([ 52664, 327662, 468453, ..., 210756,  56089, 300553])"
      ]
     },
     "execution_count": 338,
     "metadata": {},
     "output_type": "execute_result"
    }
   ],
   "source": [
    "train['ID'].unique()"
   ]
  },
  {
   "cell_type": "code",
   "execution_count": 320,
   "metadata": {},
   "outputs": [
    {
     "data": {
      "text/plain": [
       "count     330045\n",
       "unique        10\n",
       "top            c\n",
       "freq       72458\n",
       "Name: Tag, dtype: object"
      ]
     },
     "execution_count": 320,
     "metadata": {},
     "output_type": "execute_result"
    }
   ],
   "source": [
    "train['Tag'].describe()"
   ]
  },
  {
   "cell_type": "code",
   "execution_count": 321,
   "metadata": {},
   "outputs": [
    {
     "data": {
      "text/plain": [
       "array([ 52664, 327662, 468453, ..., 210756,  56089, 300553])"
      ]
     },
     "execution_count": 321,
     "metadata": {},
     "output_type": "execute_result"
    }
   ],
   "source": [
    "train['ID'].unique()"
   ]
  },
  {
   "cell_type": "code",
   "execution_count": 322,
   "metadata": {},
   "outputs": [
    {
     "data": {
      "text/plain": [
       "array(['a', 'c', 'r', 'j', 'p', 's', 'h', 'o', 'i', 'x'], dtype=object)"
      ]
     },
     "execution_count": 322,
     "metadata": {},
     "output_type": "execute_result"
    }
   ],
   "source": [
    "train['Tag'].unique()"
   ]
  },
  {
   "cell_type": "code",
   "execution_count": 323,
   "metadata": {},
   "outputs": [
    {
     "name": "stdout",
     "output_type": "stream",
     "text": [
      "Index(['ID', 'Tag', 'Reputation', 'Answers', 'Username', 'Views', 'Upvotes'], dtype='object')\n"
     ]
    }
   ],
   "source": [
    "print(train.columns)"
   ]
  },
  {
   "cell_type": "code",
   "execution_count": 324,
   "metadata": {},
   "outputs": [
    {
     "data": {
      "text/plain": [
       "count    3.300450e+05\n",
       "mean     7.773147e+03\n",
       "std      2.706141e+04\n",
       "min      0.000000e+00\n",
       "25%      2.820000e+02\n",
       "50%      1.236000e+03\n",
       "75%      5.118000e+03\n",
       "max      1.042428e+06\n",
       "Name: Reputation, dtype: float64"
      ]
     },
     "execution_count": 324,
     "metadata": {},
     "output_type": "execute_result"
    }
   ],
   "source": [
    "train['Reputation'].describe()"
   ]
  },
  {
   "cell_type": "code",
   "execution_count": 325,
   "metadata": {},
   "outputs": [
    {
     "data": {
      "text/plain": [
       "count    330045.000000\n",
       "mean          3.917672\n",
       "std           3.579515\n",
       "min           0.000000\n",
       "25%           2.000000\n",
       "50%           3.000000\n",
       "75%           5.000000\n",
       "max          76.000000\n",
       "Name: Answers, dtype: float64"
      ]
     },
     "execution_count": 325,
     "metadata": {},
     "output_type": "execute_result"
    }
   ],
   "source": [
    "train['Answers'].describe()"
   ]
  },
  {
   "cell_type": "code",
   "execution_count": 326,
   "metadata": {},
   "outputs": [
    {
     "data": {
      "text/plain": [
       "array([ 2., 12.,  4.,  3.,  1.,  7.,  8.,  0.,  5., 13.,  9., 22., 10.,\n",
       "        6., 11., 41., 16., 17., 25., 19., 21., 15., 20., 14., 18., 30.,\n",
       "       34., 37., 33., 24., 26., 28., 29., 31., 27., 23., 32., 39., 49.,\n",
       "       35., 38., 36., 50., 43., 47., 61., 51., 57., 40., 54., 46., 62.,\n",
       "       48., 60., 53., 59., 42., 45., 76., 66., 44., 58., 55.])"
      ]
     },
     "execution_count": 326,
     "metadata": {},
     "output_type": "execute_result"
    }
   ],
   "source": [
    "train['Answers'].unique()"
   ]
  },
  {
   "cell_type": "code",
   "execution_count": 327,
   "metadata": {},
   "outputs": [
    {
     "data": {
      "text/plain": [
       "count    330045.000000\n",
       "mean      81442.888803\n",
       "std       49215.100730\n",
       "min           0.000000\n",
       "25%       39808.000000\n",
       "50%       79010.000000\n",
       "75%      122559.000000\n",
       "max      175738.000000\n",
       "Name: Username, dtype: float64"
      ]
     },
     "execution_count": 327,
     "metadata": {},
     "output_type": "execute_result"
    }
   ],
   "source": [
    "train['Username'].describe()"
   ]
  },
  {
   "cell_type": "code",
   "execution_count": 328,
   "metadata": {},
   "outputs": [
    {
     "data": {
      "text/plain": [
       "count    3.300450e+05\n",
       "mean     2.964507e+04\n",
       "std      8.095646e+04\n",
       "min      9.000000e+00\n",
       "25%      2.594000e+03\n",
       "50%      8.954000e+03\n",
       "75%      2.687000e+04\n",
       "max      5.231058e+06\n",
       "Name: Views, dtype: float64"
      ]
     },
     "execution_count": 328,
     "metadata": {},
     "output_type": "execute_result"
    }
   ],
   "source": [
    "train['Views'].describe()"
   ]
  },
  {
   "cell_type": "code",
   "execution_count": 329,
   "metadata": {},
   "outputs": [
    {
     "data": {
      "text/plain": [
       "array([ 7855., 55801.,  8067., ..., 85644., 52493., 23319.])"
      ]
     },
     "execution_count": 329,
     "metadata": {},
     "output_type": "execute_result"
    }
   ],
   "source": [
    "train['Views'].unique()"
   ]
  },
  {
   "cell_type": "code",
   "execution_count": 330,
   "metadata": {},
   "outputs": [
    {
     "data": {
      "text/plain": [
       "count    330045.000000\n",
       "mean        337.505358\n",
       "std        3592.441135\n",
       "min           0.000000\n",
       "25%           8.000000\n",
       "50%          28.000000\n",
       "75%         107.000000\n",
       "max      615278.000000\n",
       "Name: Upvotes, dtype: float64"
      ]
     },
     "execution_count": 330,
     "metadata": {},
     "output_type": "execute_result"
    }
   ],
   "source": [
    "train['Upvotes'].describe()"
   ]
  },
  {
   "cell_type": "code",
   "execution_count": 331,
   "metadata": {},
   "outputs": [],
   "source": [
    "a=[]\n",
    "for i in train['Tag']:\n",
    "    if i == 'a':\n",
    "        a.append(int(1))\n",
    "    elif i == 'c':\n",
    "        a.append(int(2))\n",
    "    elif i == 'i':\n",
    "        a.append(int(3))\n",
    "    elif i == 'j':\n",
    "        a.append(int(4))\n",
    "    elif i == 'o':\n",
    "        a.append(int(5))\n",
    "    elif i == 'p':\n",
    "        a.append(int(6))\n",
    "    elif i == 'h':\n",
    "        a.append(int(7))\n",
    "    elif i == 'r':\n",
    "        a.append(int(8))\n",
    "    elif i == 's':\n",
    "        a.append(int(9))\n",
    "    else:\n",
    "        a.append(int(10))"
   ]
  },
  {
   "cell_type": "code",
   "execution_count": 332,
   "metadata": {},
   "outputs": [],
   "source": [
    "a=[]\n",
    "for i in test['Tag']:\n",
    "    if i == 'a':\n",
    "        a.append(int(1))\n",
    "    elif i == 'c':\n",
    "        a.append(int(2))\n",
    "    elif i == 'i':\n",
    "        a.append(int(3))\n",
    "    elif i == 'j':\n",
    "        a.append(int(4))\n",
    "    elif i == 'o':\n",
    "        a.append(int(5))\n",
    "    elif i == 'p':\n",
    "        a.append(int(6))\n",
    "    elif i == 'h':\n",
    "        a.append(int(7))\n",
    "    elif i == 'r':\n",
    "        a.append(int(8))\n",
    "    elif i == 's':\n",
    "        a.append(int(9))\n",
    "    else:\n",
    "        a.append(int(10))"
   ]
  },
  {
   "cell_type": "code",
   "execution_count": 256,
   "metadata": {},
   "outputs": [],
   "source": [
    "test['Tag']=a"
   ]
  },
  {
   "cell_type": "code",
   "execution_count": 339,
   "metadata": {},
   "outputs": [
    {
     "data": {
      "text/plain": [
       "(330045, 7)"
      ]
     },
     "execution_count": 339,
     "metadata": {},
     "output_type": "execute_result"
    }
   ],
   "source": [
    "train.shape"
   ]
  },
  {
   "cell_type": "code",
   "execution_count": 340,
   "metadata": {},
   "outputs": [
    {
     "data": {
      "image/png": "[encoded data removed]",
      "text/plain": [
       "<Figure size 864x648 with 2 Axes>"
      ]
     },
     "metadata": {},
     "output_type": "display_data"
    }
   ],
   "source": [
    "corrmat=train.corr()\n",
    "fig=plt.figure(figsize=(12,9))\n",
    "\n",
    "sns.heatmap(corrmat,vmax=.8,square=True)\n",
    "plt.show()"
   ]
  },
  {
   "cell_type": "code",
   "execution_count": 341,
   "metadata": {},
   "outputs": [
    {
     "data": {
      "text/html": [
       "<div>\n",
       "<style scoped>\n",
       "    .dataframe tbody tr th:only-of-type {\n",
       "        vertical-align: middle;\n",
       "    }\n",
       "\n",
       "    .dataframe tbody tr th {\n",
       "        vertical-align: top;\n",
       "    }\n",
       "\n",
       "    .dataframe thead th {\n",
       "        text-align: right;\n",
       "    }\n",
       "</style>\n",
       "<table border=\"1\" class=\"dataframe\">\n",
       "  <thead>\n",
       "    <tr style=\"text-align: right;\">\n",
       "      <th></th>\n",
       "      <th>ID</th>\n",
       "      <th>Tag</th>\n",
       "      <th>Reputation</th>\n",
       "      <th>Answers</th>\n",
       "      <th>Username</th>\n",
       "      <th>Views</th>\n",
       "      <th>Upvotes</th>\n",
       "    </tr>\n",
       "  </thead>\n",
       "  <tbody>\n",
       "    <tr>\n",
       "      <th>0</th>\n",
       "      <td>52664</td>\n",
       "      <td>a</td>\n",
       "      <td>3942.0</td>\n",
       "      <td>2.0</td>\n",
       "      <td>155623</td>\n",
       "      <td>7855.0</td>\n",
       "      <td>42.0</td>\n",
       "    </tr>\n",
       "    <tr>\n",
       "      <th>1</th>\n",
       "      <td>327662</td>\n",
       "      <td>a</td>\n",
       "      <td>26046.0</td>\n",
       "      <td>12.0</td>\n",
       "      <td>21781</td>\n",
       "      <td>55801.0</td>\n",
       "      <td>1175.0</td>\n",
       "    </tr>\n",
       "    <tr>\n",
       "      <th>2</th>\n",
       "      <td>468453</td>\n",
       "      <td>c</td>\n",
       "      <td>1358.0</td>\n",
       "      <td>4.0</td>\n",
       "      <td>56177</td>\n",
       "      <td>8067.0</td>\n",
       "      <td>60.0</td>\n",
       "    </tr>\n",
       "    <tr>\n",
       "      <th>3</th>\n",
       "      <td>96996</td>\n",
       "      <td>a</td>\n",
       "      <td>264.0</td>\n",
       "      <td>3.0</td>\n",
       "      <td>168793</td>\n",
       "      <td>27064.0</td>\n",
       "      <td>9.0</td>\n",
       "    </tr>\n",
       "    <tr>\n",
       "      <th>4</th>\n",
       "      <td>131465</td>\n",
       "      <td>c</td>\n",
       "      <td>4271.0</td>\n",
       "      <td>4.0</td>\n",
       "      <td>112223</td>\n",
       "      <td>13986.0</td>\n",
       "      <td>83.0</td>\n",
       "    </tr>\n",
       "  </tbody>\n",
       "</table>\n",
       "</div>"
      ],
      "text/plain": [
       "       ID Tag  Reputation  Answers  Username    Views  Upvotes\n",
       "0   52664   a      3942.0      2.0    155623   7855.0     42.0\n",
       "1  327662   a     26046.0     12.0     21781  55801.0   1175.0\n",
       "2  468453   c      1358.0      4.0     56177   8067.0     60.0\n",
       "3   96996   a       264.0      3.0    168793  27064.0      9.0\n",
       "4  131465   c      4271.0      4.0    112223  13986.0     83.0"
      ]
     },
     "execution_count": 341,
     "metadata": {},
     "output_type": "execute_result"
    }
   ],
   "source": [
    "train.head()"
   ]
  },
  {
   "cell_type": "code",
   "execution_count": 389,
   "metadata": {},
   "outputs": [],
   "source": [
    "x_min=min(train['Reputation'])\n",
    "x_max=max(train['Reputation'])\n",
    "train['Reputation']=(train['Reputation']-x_min)/np.average(train['Reputation'])"
   ]
  },
  {
   "cell_type": "code",
   "execution_count": 390,
   "metadata": {},
   "outputs": [],
   "source": [
    "x_min=min(test['Reputation'])\n",
    "x_max=max(test['Reputation'])\n",
    "test['Reputation']=(test['Reputation']-x_min)/np.average(test['Reputation'])"
   ]
  },
  {
   "cell_type": "code",
   "execution_count": 391,
   "metadata": {},
   "outputs": [],
   "source": [
    "x_min=min(train['Views'])\n",
    "x_max=max(train['Views'])\n",
    "train['Views']=(train['Views']-x_min)/np.average(train['Views'])"
   ]
  },
  {
   "cell_type": "code",
   "execution_count": 392,
   "metadata": {},
   "outputs": [],
   "source": [
    "x_min=min(test['Views'])\n",
    "x_max=max(test['Views'])\n",
    "test['Views']=(test['Views']-x_min)/np.average(test['Views'])"
   ]
  },
  {
   "cell_type": "code",
   "execution_count": 393,
   "metadata": {},
   "outputs": [],
   "source": [
    "x_min=min(train['Answers'])\n",
    "x_max=max(train['Answers'])\n",
    "train['Answers']=(train['Answers']-x_min)/np.average(train['Answers'])"
   ]
  },
  {
   "cell_type": "code",
   "execution_count": 394,
   "metadata": {},
   "outputs": [],
   "source": [
    "x_min=min(test['Answers'])\n",
    "x_max=max(test['Answers'])\n",
    "test['Answers']=(test['Answers']-x_min)/np.average(test['Answers'])"
   ]
  },
  {
   "cell_type": "code",
   "execution_count": 428,
   "metadata": {},
   "outputs": [],
   "source": [
    "train['Reputation']=np.multiply(train['Reputation'],max(train['Upvotes'])-min(train['Upvotes']))"
   ]
  },
  {
   "cell_type": "code",
   "execution_count": 429,
   "metadata": {},
   "outputs": [],
   "source": [
    "train['Views']=np.multiply(train['Views'],max(train['Upvotes'])-min(train['Upvotes']))\n",
    "train['Answers']=np.multiply(train['Answers'],max(train['Upvotes'])-min(train['Upvotes']))\n",
    "train['Upvotes']=np.multiply(train['Upvotes'],max(train['Upvotes'])-min(train['Upvotes']))"
   ]
  },
  {
   "cell_type": "code",
   "execution_count": 351,
   "metadata": {},
   "outputs": [],
   "source": []
  },
  {
   "cell_type": "code",
   "execution_count": 430,
   "metadata": {},
   "outputs": [],
   "source": [
    "test['Reputation']=np.multiply(test['Reputation'],max(train['Upvotes'])-min(train['Upvotes']))\n",
    "test['Views']=np.multiply(test['Views'],max(train['Upvotes'])-min(train['Upvotes']))\n",
    "test['Answers']=np.multiply(test['Answers'],max(train['Upvotes'])-min(train['Upvotes']))\n"
   ]
  },
  {
   "cell_type": "code",
   "execution_count": 431,
   "metadata": {},
   "outputs": [],
   "source": [
    "col=['Reputation','Answers','Views']"
   ]
  },
  {
   "cell_type": "code",
   "execution_count": 432,
   "metadata": {},
   "outputs": [
    {
     "data": {
      "text/html": [
       "<div>\n",
       "<style scoped>\n",
       "    .dataframe tbody tr th:only-of-type {\n",
       "        vertical-align: middle;\n",
       "    }\n",
       "\n",
       "    .dataframe tbody tr th {\n",
       "        vertical-align: top;\n",
       "    }\n",
       "\n",
       "    .dataframe thead th {\n",
       "        text-align: right;\n",
       "    }\n",
       "</style>\n",
       "<table border=\"1\" class=\"dataframe\">\n",
       "  <thead>\n",
       "    <tr style=\"text-align: right;\">\n",
       "      <th></th>\n",
       "      <th>Reputation</th>\n",
       "      <th>Answers</th>\n",
       "      <th>Views</th>\n",
       "    </tr>\n",
       "  </thead>\n",
       "  <tbody>\n",
       "    <tr>\n",
       "      <th>0</th>\n",
       "      <td>3.986709e+19</td>\n",
       "      <td>2.469268e+25</td>\n",
       "      <td>1.280153e+25</td>\n",
       "    </tr>\n",
       "    <tr>\n",
       "      <th>1</th>\n",
       "      <td>2.634141e+20</td>\n",
       "      <td>1.481561e+26</td>\n",
       "      <td>9.103023e+25</td>\n",
       "    </tr>\n",
       "    <tr>\n",
       "      <th>2</th>\n",
       "      <td>1.373402e+19</td>\n",
       "      <td>4.938535e+25</td>\n",
       "      <td>1.314743e+25</td>\n",
       "    </tr>\n",
       "    <tr>\n",
       "      <th>3</th>\n",
       "      <td>2.669942e+18</td>\n",
       "      <td>3.703901e+25</td>\n",
       "      <td>4.414294e+25</td>\n",
       "    </tr>\n",
       "    <tr>\n",
       "      <th>4</th>\n",
       "      <td>4.319441e+19</td>\n",
       "      <td>4.938535e+25</td>\n",
       "      <td>2.280487e+25</td>\n",
       "    </tr>\n",
       "  </tbody>\n",
       "</table>\n",
       "</div>"
      ],
      "text/plain": [
       "     Reputation       Answers         Views\n",
       "0  3.986709e+19  2.469268e+25  1.280153e+25\n",
       "1  2.634141e+20  1.481561e+26  9.103023e+25\n",
       "2  1.373402e+19  4.938535e+25  1.314743e+25\n",
       "3  2.669942e+18  3.703901e+25  4.414294e+25\n",
       "4  4.319441e+19  4.938535e+25  2.280487e+25"
      ]
     },
     "execution_count": 432,
     "metadata": {},
     "output_type": "execute_result"
    }
   ],
   "source": [
    "train[col].head()"
   ]
  },
  {
   "cell_type": "code",
   "execution_count": 433,
   "metadata": {},
   "outputs": [
    {
     "data": {
      "text/plain": [
       "0         9.782806e+18\n",
       "1         2.736856e+20\n",
       "2         1.397544e+19\n",
       "3         2.096316e+18\n",
       "4         1.933269e+19\n",
       "5         9.316958e+17\n",
       "6         3.959707e+18\n",
       "7         6.987719e+17\n",
       "8         1.840099e+19\n",
       "9         0.000000e+00\n",
       "10        3.866538e+19\n",
       "11        9.782806e+18\n",
       "12        4.425555e+18\n",
       "13        4.658479e+17\n",
       "14        2.329240e+18\n",
       "15        5.194204e+19\n",
       "16        3.028011e+18\n",
       "17        1.863392e+18\n",
       "18        2.096316e+18\n",
       "19        1.840099e+19\n",
       "20        1.444129e+19\n",
       "21        0.000000e+00\n",
       "22        2.329240e+18\n",
       "23        1.118035e+19\n",
       "24        1.490713e+19\n",
       "25        9.316958e+17\n",
       "26        1.327667e+19\n",
       "27        1.164620e+18\n",
       "28        1.094743e+19\n",
       "29        1.164620e+18\n",
       "              ...     \n",
       "330015    2.142900e+19\n",
       "330016    6.987719e+17\n",
       "330017    6.056023e+18\n",
       "330018    3.260935e+19\n",
       "330019    2.189485e+19\n",
       "330020    2.329240e+17\n",
       "330021    9.316958e+17\n",
       "330022    1.490713e+19\n",
       "330023    2.329240e+18\n",
       "330024    6.987719e+17\n",
       "330025    9.316958e+17\n",
       "330026    4.425555e+18\n",
       "330027    1.257789e+19\n",
       "330028    1.863392e+18\n",
       "330029    9.084034e+18\n",
       "330030    3.028011e+18\n",
       "330031    2.795087e+18\n",
       "330032    2.972110e+20\n",
       "330033    9.316958e+17\n",
       "330034    9.829391e+19\n",
       "330035    2.934842e+19\n",
       "330036    4.658479e+18\n",
       "330037    2.166193e+19\n",
       "330038    4.658479e+18\n",
       "330039    1.728296e+20\n",
       "330040    0.000000e+00\n",
       "330041    1.700345e+19\n",
       "330042    3.493859e+18\n",
       "330043    6.987719e+17\n",
       "330044    8.618186e+18\n",
       "Name: Upvotes, Length: 330045, dtype: float64"
      ]
     },
     "execution_count": 433,
     "metadata": {},
     "output_type": "execute_result"
    }
   ],
   "source": [
    "train['Upvotes']"
   ]
  },
  {
   "cell_type": "code",
   "execution_count": 419,
   "metadata": {},
   "outputs": [
    {
     "data": {
      "text/html": [
       "<div>\n",
       "<style scoped>\n",
       "    .dataframe tbody tr th:only-of-type {\n",
       "        vertical-align: middle;\n",
       "    }\n",
       "\n",
       "    .dataframe tbody tr th {\n",
       "        vertical-align: top;\n",
       "    }\n",
       "\n",
       "    .dataframe thead th {\n",
       "        text-align: right;\n",
       "    }\n",
       "</style>\n",
       "<table border=\"1\" class=\"dataframe\">\n",
       "  <thead>\n",
       "    <tr style=\"text-align: right;\">\n",
       "      <th></th>\n",
       "      <th>Reputation</th>\n",
       "      <th>Answers</th>\n",
       "      <th>Views</th>\n",
       "    </tr>\n",
       "  </thead>\n",
       "  <tbody>\n",
       "    <tr>\n",
       "      <th>0</th>\n",
       "      <td>1.479926e+08</td>\n",
       "      <td>1.591313e+08</td>\n",
       "      <td>2.309306e+08</td>\n",
       "    </tr>\n",
       "    <tr>\n",
       "      <th>1</th>\n",
       "      <td>6.425946e+08</td>\n",
       "      <td>3.182626e+08</td>\n",
       "      <td>1.893170e+07</td>\n",
       "    </tr>\n",
       "    <tr>\n",
       "      <th>2</th>\n",
       "      <td>2.430277e+07</td>\n",
       "      <td>5.304377e+07</td>\n",
       "      <td>1.472094e+08</td>\n",
       "    </tr>\n",
       "    <tr>\n",
       "      <th>3</th>\n",
       "      <td>5.505482e+05</td>\n",
       "      <td>3.182626e+08</td>\n",
       "      <td>1.288483e+08</td>\n",
       "    </tr>\n",
       "    <tr>\n",
       "      <th>4</th>\n",
       "      <td>1.173192e+08</td>\n",
       "      <td>5.304377e+08</td>\n",
       "      <td>3.981919e+08</td>\n",
       "    </tr>\n",
       "  </tbody>\n",
       "</table>\n",
       "</div>"
      ],
      "text/plain": [
       "     Reputation       Answers         Views\n",
       "0  1.479926e+08  1.591313e+08  2.309306e+08\n",
       "1  6.425946e+08  3.182626e+08  1.893170e+07\n",
       "2  2.430277e+07  5.304377e+07  1.472094e+08\n",
       "3  5.505482e+05  3.182626e+08  1.288483e+08\n",
       "4  1.173192e+08  5.304377e+08  3.981919e+08"
      ]
     },
     "execution_count": 419,
     "metadata": {},
     "output_type": "execute_result"
    }
   ],
   "source": [
    "test[col].head()"
   ]
  },
  {
   "cell_type": "code",
   "execution_count": 434,
   "metadata": {},
   "outputs": [
    {
     "name": "stdout",
     "output_type": "stream",
     "text": [
      "(231031, 7)\n",
      "(99014, 7)\n"
     ]
    }
   ],
   "source": [
    "from sklearn.model_selection import train_test_split\n",
    "#training set\n",
    "train_set=train.sample(frac=0.7,random_state=1)\n",
    "#test set\n",
    "test_set=train.loc[~train.index.isin(train_set.index)]\n",
    "print(train_set.shape)\n",
    "print(test_set.shape)"
   ]
  },
  {
   "cell_type": "code",
   "execution_count": 435,
   "metadata": {},
   "outputs": [
    {
     "data": {
      "text/html": [
       "<div>\n",
       "<style scoped>\n",
       "    .dataframe tbody tr th:only-of-type {\n",
       "        vertical-align: middle;\n",
       "    }\n",
       "\n",
       "    .dataframe tbody tr th {\n",
       "        vertical-align: top;\n",
       "    }\n",
       "\n",
       "    .dataframe thead th {\n",
       "        text-align: right;\n",
       "    }\n",
       "</style>\n",
       "<table border=\"1\" class=\"dataframe\">\n",
       "  <thead>\n",
       "    <tr style=\"text-align: right;\">\n",
       "      <th></th>\n",
       "      <th>Reputation</th>\n",
       "      <th>Answers</th>\n",
       "      <th>Views</th>\n",
       "    </tr>\n",
       "  </thead>\n",
       "  <tbody>\n",
       "    <tr>\n",
       "      <th>0</th>\n",
       "      <td>3.986709e+19</td>\n",
       "      <td>2.469268e+25</td>\n",
       "      <td>1.280153e+25</td>\n",
       "    </tr>\n",
       "    <tr>\n",
       "      <th>5</th>\n",
       "      <td>4.449904e+18</td>\n",
       "      <td>1.234634e+25</td>\n",
       "      <td>9.084749e+24</td>\n",
       "    </tr>\n",
       "    <tr>\n",
       "      <th>7</th>\n",
       "      <td>2.294735e+19</td>\n",
       "      <td>2.469268e+25</td>\n",
       "      <td>4.943748e+23</td>\n",
       "    </tr>\n",
       "    <tr>\n",
       "      <th>23</th>\n",
       "      <td>1.021455e+18</td>\n",
       "      <td>9.877070e+25</td>\n",
       "      <td>9.069249e+25</td>\n",
       "    </tr>\n",
       "    <tr>\n",
       "      <th>25</th>\n",
       "      <td>3.701511e+18</td>\n",
       "      <td>1.234634e+25</td>\n",
       "      <td>1.002292e+25</td>\n",
       "    </tr>\n",
       "  </tbody>\n",
       "</table>\n",
       "</div>"
      ],
      "text/plain": [
       "      Reputation       Answers         Views\n",
       "0   3.986709e+19  2.469268e+25  1.280153e+25\n",
       "5   4.449904e+18  1.234634e+25  9.084749e+24\n",
       "7   2.294735e+19  2.469268e+25  4.943748e+23\n",
       "23  1.021455e+18  9.877070e+25  9.069249e+25\n",
       "25  3.701511e+18  1.234634e+25  1.002292e+25"
      ]
     },
     "execution_count": 435,
     "metadata": {},
     "output_type": "execute_result"
    }
   ],
   "source": [
    "train_set[col].head()\n",
    "test_set[col].head()"
   ]
  },
  {
   "cell_type": "code",
   "execution_count": 436,
   "metadata": {},
   "outputs": [],
   "source": [
    "target=\"Upvotes\""
   ]
  },
  {
   "cell_type": "code",
   "execution_count": 437,
   "metadata": {},
   "outputs": [],
   "source": [
    "from sklearn.ensemble import RandomForestRegressor\n",
    "#from sklearn.metrics import mean_absolute_error\n",
    "\n",
    "forest_model = RandomForestRegressor()\n",
    "forest_model.fit(train_set[col],train_set[target])\n",
    "predictions = forest_model.predict(test_set[col])"
   ]
  },
  {
   "cell_type": "code",
   "execution_count": 438,
   "metadata": {},
   "outputs": [],
   "source": [
    "new_list = []\n",
    "for item in predictions:\n",
    "    new_list.append(int(round(item)))"
   ]
  },
  {
   "cell_type": "code",
   "execution_count": 441,
   "metadata": {},
   "outputs": [],
   "source": [
    "new_list=np.divide(new_list,max(train['Upvotes']-min(train['Upvotes'])))"
   ]
  },
  {
   "cell_type": "code",
   "execution_count": 442,
   "metadata": {},
   "outputs": [],
   "source": [
    "from sklearn.metrics import mean_squared_error"
   ]
  },
  {
   "cell_type": "code",
   "execution_count": 443,
   "metadata": {},
   "outputs": [
    {
     "data": {
      "text/plain": [
       "5.504790718894091e+41"
      ]
     },
     "execution_count": 443,
     "metadata": {},
     "output_type": "execute_result"
    }
   ],
   "source": [
    "mean_squared_error(new_list,test_set[target])"
   ]
  },
  {
   "cell_type": "code",
   "execution_count": 444,
   "metadata": {
    "scrolled": true
   },
   "outputs": [
    {
     "data": {
      "text/html": [
       "<div>\n",
       "<style scoped>\n",
       "    .dataframe tbody tr th:only-of-type {\n",
       "        vertical-align: middle;\n",
       "    }\n",
       "\n",
       "    .dataframe tbody tr th {\n",
       "        vertical-align: top;\n",
       "    }\n",
       "\n",
       "    .dataframe thead th {\n",
       "        text-align: right;\n",
       "    }\n",
       "</style>\n",
       "<table border=\"1\" class=\"dataframe\">\n",
       "  <thead>\n",
       "    <tr style=\"text-align: right;\">\n",
       "      <th></th>\n",
       "      <th>ID</th>\n",
       "      <th>Tag</th>\n",
       "      <th>Reputation</th>\n",
       "      <th>Answers</th>\n",
       "      <th>Username</th>\n",
       "      <th>Views</th>\n",
       "      <th>Upvotes</th>\n",
       "    </tr>\n",
       "  </thead>\n",
       "  <tbody>\n",
       "    <tr>\n",
       "      <th>0</th>\n",
       "      <td>52664</td>\n",
       "      <td>a</td>\n",
       "      <td>3.986709e+19</td>\n",
       "      <td>2.469268e+25</td>\n",
       "      <td>155623</td>\n",
       "      <td>1.280153e+25</td>\n",
       "      <td>9.782806e+18</td>\n",
       "    </tr>\n",
       "    <tr>\n",
       "      <th>1</th>\n",
       "      <td>327662</td>\n",
       "      <td>a</td>\n",
       "      <td>2.634141e+20</td>\n",
       "      <td>1.481561e+26</td>\n",
       "      <td>21781</td>\n",
       "      <td>9.103023e+25</td>\n",
       "      <td>2.736856e+20</td>\n",
       "    </tr>\n",
       "    <tr>\n",
       "      <th>2</th>\n",
       "      <td>468453</td>\n",
       "      <td>c</td>\n",
       "      <td>1.373402e+19</td>\n",
       "      <td>4.938535e+25</td>\n",
       "      <td>56177</td>\n",
       "      <td>1.314743e+25</td>\n",
       "      <td>1.397544e+19</td>\n",
       "    </tr>\n",
       "    <tr>\n",
       "      <th>3</th>\n",
       "      <td>96996</td>\n",
       "      <td>a</td>\n",
       "      <td>2.669942e+18</td>\n",
       "      <td>3.703901e+25</td>\n",
       "      <td>168793</td>\n",
       "      <td>4.414294e+25</td>\n",
       "      <td>2.096316e+18</td>\n",
       "    </tr>\n",
       "    <tr>\n",
       "      <th>4</th>\n",
       "      <td>131465</td>\n",
       "      <td>c</td>\n",
       "      <td>4.319441e+19</td>\n",
       "      <td>4.938535e+25</td>\n",
       "      <td>112223</td>\n",
       "      <td>2.280487e+25</td>\n",
       "      <td>1.933269e+19</td>\n",
       "    </tr>\n",
       "  </tbody>\n",
       "</table>\n",
       "</div>"
      ],
      "text/plain": [
       "       ID Tag    Reputation       Answers  Username         Views  \\\n",
       "0   52664   a  3.986709e+19  2.469268e+25    155623  1.280153e+25   \n",
       "1  327662   a  2.634141e+20  1.481561e+26     21781  9.103023e+25   \n",
       "2  468453   c  1.373402e+19  4.938535e+25     56177  1.314743e+25   \n",
       "3   96996   a  2.669942e+18  3.703901e+25    168793  4.414294e+25   \n",
       "4  131465   c  4.319441e+19  4.938535e+25    112223  2.280487e+25   \n",
       "\n",
       "        Upvotes  \n",
       "0  9.782806e+18  \n",
       "1  2.736856e+20  \n",
       "2  1.397544e+19  \n",
       "3  2.096316e+18  \n",
       "4  1.933269e+19  "
      ]
     },
     "execution_count": 444,
     "metadata": {},
     "output_type": "execute_result"
    }
   ],
   "source": [
    "train.head()"
   ]
  },
  {
   "cell_type": "code",
   "execution_count": 384,
   "metadata": {},
   "outputs": [
    {
     "data": {
      "text/plain": [
       "RandomForestRegressor(bootstrap=True, criterion='mse', max_depth=None,\n",
       "           max_features='auto', max_leaf_nodes=None,\n",
       "           min_impurity_decrease=0.0, min_impurity_split=None,\n",
       "           min_samples_leaf=1, min_samples_split=2,\n",
       "           min_weight_fraction_leaf=0.0, n_estimators=10, n_jobs=1,\n",
       "           oob_score=False, random_state=None, verbose=0, warm_start=False)"
      ]
     },
     "execution_count": 384,
     "metadata": {},
     "output_type": "execute_result"
    }
   ],
   "source": [
    "forest_model = RandomForestRegressor()\n",
    "forest_model.fit(train[col],train[target])\n",
    "#predictions = forest_model.predict(test_set[col])"
   ]
  },
  {
   "cell_type": "code",
   "execution_count": 385,
   "metadata": {},
   "outputs": [],
   "source": [
    "prediction = forest_model.predict(test[col])"
   ]
  },
  {
   "cell_type": "code",
   "execution_count": 386,
   "metadata": {},
   "outputs": [],
   "source": [
    "nlist = []\n",
    "for item in prediction:\n",
    "    nlist.append(int(round(item)))"
   ]
  },
  {
   "cell_type": "code",
   "execution_count": 387,
   "metadata": {},
   "outputs": [],
   "source": [
    "my_submission = pd.DataFrame({'ID': test.ID, 'Upvotes': nlist})\n",
    "\n",
    "my_submission.to_csv('submission.csv', index=False)"
   ]
  },
  {
   "cell_type": "code",
   "execution_count": null,
   "metadata": {},
   "outputs": [],
   "source": []
  }
 ],
 "metadata": {
  "kernelspec": {
   "display_name": "Python 3",
   "language": "python",
   "name": "python3"
  },
  "language_info": {
   "codemirror_mode": {
    "name": "ipython",
    "version": 3
   },
   "file_extension": ".py",
   "mimetype": "text/x-python",
   "name": "python",
   "nbconvert_exporter": "python",
   "pygments_lexer": "ipython3",
   "version": "3.6.5"
  }
 },
 "nbformat": 4,
 "nbformat_minor": 2
}
